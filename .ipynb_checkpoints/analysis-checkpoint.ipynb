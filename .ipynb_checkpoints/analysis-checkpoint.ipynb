{
 "cells": [
  {
   "cell_type": "code",
   "execution_count": 11,
   "id": "34f8b479-1c7e-4714-b981-d59e12198371",
   "metadata": {},
   "outputs": [
    {
     "name": "stdout",
     "output_type": "stream",
     "text": [
      "[0 1 2 3 4 5 6 7 8 9]\n"
     ]
    }
   ],
   "source": [
    "# INITIAL SETUP\n",
    "import pandas as pd\n",
    "from sklearn.model_selection import train_test_split\n",
    "from sklearn.metrics import r2_score, mean_squared_error\n",
    "\n",
    "data_df = pd.read_csv('2015.csv')\n",
    "\n",
    "# Clean the data\n",
    "data_df = data_df.dropna()\n",
    "\n",
    "# print(data_df['Region'].unique())\n",
    "def map_region(region):\n",
    "    region_map = {'Western Europe':0, 'North America':1, 'Australia and New Zealand':2, 'Middle East and Northern Africa':3, 'Latin America and Caribbean':4, 'Southeastern Asia':5, 'Central and Eastern Europe':6, 'Eastern Asia':7, 'Sub-Saharan Africa':8, 'Southern Asia':9}\n",
    "    return region_map.get(region)\n",
    "\n",
    "data_df['Region Category'] = data_df['Region'].apply(map_region)\n",
    "\n",
    "\n",
    "x = data_df[['Economy (GDP per Capita)', 'Freedom', 'Health (Life Expectancy)', 'Happiness Score']]\n",
    "y = data_df[['Region Category']]\n",
    "print(data_df['Region Category'].unique())"
   ]
  },
  {
   "cell_type": "code",
   "execution_count": null,
   "id": "f16e2394-fc75-4257-8174-e76a1e20e269",
   "metadata": {},
   "outputs": [],
   "source": [
    "# CLUSTERING\n",
    "from sklearn.cluster import KMeans\n",
    "\n",
    "kmeans = KMeans(n_clusters="
   ]
  },
  {
   "cell_type": "code",
   "execution_count": 5,
   "id": "679fd385-51a6-4522-a4e7-e4f9493c52ab",
   "metadata": {},
   "outputs": [],
   "source": [
    "# DIMENSIONAL ANALYSIS\n",
    "from sklearn.decomposition import PCA\n",
    "\n",
    "pca = PCA(n_components=2)\n",
    "x_pca = pca.fit_transform(x)"
   ]
  },
  {
   "cell_type": "code",
   "execution_count": 7,
   "id": "f783e84c-8c26-499e-81d0-b13f1d708215",
   "metadata": {},
   "outputs": [
    {
     "ename": "NameError",
     "evalue": "name 'y_pred' is not defined",
     "output_type": "error",
     "traceback": [
      "\u001b[1;31m---------------------------------------------------------------------------\u001b[0m",
      "\u001b[1;31mNameError\u001b[0m                                 Traceback (most recent call last)",
      "Cell \u001b[1;32mIn[7], line 3\u001b[0m\n\u001b[0;32m      1\u001b[0m \u001b[38;5;66;03m# VISUALIZATION\u001b[39;00m\n\u001b[0;32m      2\u001b[0m \u001b[38;5;28;01mimport\u001b[39;00m \u001b[38;5;21;01mmatplotlib\u001b[39;00m\u001b[38;5;21;01m.\u001b[39;00m\u001b[38;5;21;01mpyplot\u001b[39;00m \u001b[38;5;28;01mas\u001b[39;00m \u001b[38;5;21;01mplt\u001b[39;00m\n\u001b[1;32m----> 3\u001b[0m plt\u001b[38;5;241m.\u001b[39mscatter(x_pca[:, \u001b[38;5;241m0\u001b[39m], x_pca[:, \u001b[38;5;241m1\u001b[39m], c\u001b[38;5;241m=\u001b[39m\u001b[43my_pred\u001b[49m)\n\u001b[0;32m      4\u001b[0m plt\u001b[38;5;241m.\u001b[39mshow()\n",
      "\u001b[1;31mNameError\u001b[0m: name 'y_pred' is not defined"
     ]
    }
   ],
   "source": [
    "# VISUALIZATION\n",
    "import matplotlib.pyplot as plt\n",
    "plt.scatter(x_pca[:, 0], x_pca[:, 1], c=y_pred)\n",
    "plt.show()"
   ]
  },
  {
   "cell_type": "markdown",
   "id": "620ca0be-62b2-44cc-88bc-2cf27b3b0717",
   "metadata": {},
   "source": [
    "We can visually see a few outliers (namely, points that are far above/below/to the side of the rest of their cluster.) This could be countries that are doing significantly better/worse than their regional counterparts. Generally, however, we see that countries tend to be clumped together in terms of their statistics (happiness, wealth, etc.)"
   ]
  },
  {
   "cell_type": "code",
   "execution_count": null,
   "id": "28f7c3af-9ca5-48dd-99d4-4187edaa4461",
   "metadata": {},
   "outputs": [],
   "source": []
  }
 ],
 "metadata": {
  "kernelspec": {
   "display_name": "Python 3 (ipykernel)",
   "language": "python",
   "name": "python3"
  },
  "language_info": {
   "codemirror_mode": {
    "name": "ipython",
    "version": 3
   },
   "file_extension": ".py",
   "mimetype": "text/x-python",
   "name": "python",
   "nbconvert_exporter": "python",
   "pygments_lexer": "ipython3",
   "version": "3.11.5"
  }
 },
 "nbformat": 4,
 "nbformat_minor": 5
}
