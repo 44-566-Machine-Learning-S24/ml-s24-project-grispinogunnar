{
 "cells": [
  {
   "cell_type": "markdown",
   "id": "5dce7f53-4820-4e4c-bb91-3c4e63e343cc",
   "metadata": {},
   "source": [
    "# Initial Exploration\n",
    "## Global Happiness Rankings (2015, via Kaggle)"
   ]
  },
  {
   "cell_type": "markdown",
   "id": "2cae4783-7575-402f-a437-578dc01fbaea",
   "metadata": {},
   "source": [
    "### Initial Data Prep"
   ]
  },
  {
   "cell_type": "code",
   "execution_count": 23,
   "id": "c5084cf4-10f7-43d1-b932-d465b1de8e16",
   "metadata": {},
   "outputs": [
    {
     "name": "stdout",
     "output_type": "stream",
     "text": [
      "1534 520\n",
      "1534 520\n"
     ]
    }
   ],
   "source": [
    "import pandas as pd\n",
    "from sklearn.model_selection import train_test_split\n",
    "\n",
    "data_df = pd.read_csv('2015.csv')\n",
    "\n",
    "# Clean the data\n",
    "data_df = data_df.dropna()\n",
    "\n",
    "# print(data_df['Region'].unique())\n",
    "def map_region(region):\n",
    "    region_map = {'Western Europe':0, 'North America':1, 'Australia and New Zealand':2, 'Middle East and Northern Africa':3, 'Latin America and Caribbean':4, 'Southeastern Asia':5, 'Central and Eastern Europe':6, 'Eastern Asia':7, 'Sub-Saharan Africa':8, 'Southern Asia':9}\n",
    "    return region_map.get(region)\n",
    "\n",
    "data_df['Region Category'] = data_df['Region'].apply(map_region)\n",
    "# print(data_df.head())\n",
    "train_set, test_set = train_test_split(data_df, test_size=0.25, random_state=101)\n",
    "\n",
    "print(train_set.size, test_set.size)\n",
    "train_set.dropna()\n",
    "test_set.dropna()\n",
    "# No data was lost. Yippee!!\n",
    "print(train_set.size, test_set.size)"
   ]
  },
  {
   "cell_type": "markdown",
   "id": "e972e82f-c81b-4765-89fb-a024f1e9eac2",
   "metadata": {},
   "source": [
    "### Features/Target:\n",
    "#### Features: \n",
    "* Economy (GDP per Capita)\n",
    "    * A\n",
    "* Freedom\n",
    "    * B\n",
    "* Health\n",
    "    * D\n",
    "#### Target:\n",
    "* Region\n",
    "    * A"
   ]
  },
  {
   "cell_type": "code",
   "execution_count": 52,
   "id": "099dd18a-5420-42e3-a77b-6bff53a0c06a",
   "metadata": {},
   "outputs": [
    {
     "name": "stdout",
     "output_type": "stream",
     "text": [
      "r^2 for initial decision tree: 1.0\n",
      "MSE for initial decision tree: 0.0\n"
     ]
    }
   ],
   "source": [
    "from sklearn import tree\n",
    "from sklearn.metrics import r2_score, mean_squared_error\n",
    "x_train = train_set[['Economy (GDP per Capita)', 'Freedom', 'Health (Life Expectancy)']]\n",
    "y_train = train_set[['Region Category']]\n",
    "\n",
    "clf = tree.DecisionTreeRegressor()\n",
    "clf = clf.fit(x_train, y_train)\n",
    "\n",
    "y_train_pred = clf.predict(x_train)\n",
    "\n",
    "print(f'r^2 for initial decision tree: {r2_score(y_train, y_train_pred)}')\n",
    "print(f'MSE for initial decision tree: {mean_squared_error(y_train, y_train_pred)}')"
   ]
  },
  {
   "cell_type": "markdown",
   "id": "8e09dea5-b04a-44b4-839f-ab9adc86ea7a",
   "metadata": {},
   "source": [
    "### Analysis:\n",
    "The r^2 and MSE are suspiciously good. We will try the model on the test set to validate its performance."
   ]
  },
  {
   "cell_type": "code",
   "execution_count": 64,
   "id": "89541faa-0bd9-4e7a-a123-32f0f28c2c91",
   "metadata": {
    "scrolled": true
   },
   "outputs": [
    {
     "name": "stdout",
     "output_type": "stream",
     "text": [
      "r^2 for initial decision tree: 0.6760751631417565\n",
      "MSE for initial decision tree: 2.575\n"
     ]
    },
    {
     "data": {
      "text/plain": [
       "[Text(0.44832920792079206, 0.9615384615384616, 'x[2] <= 0.577\\nsquared_error = 7.465\\nsamples = 118\\nvalue = 4.975'),\n",
       " Text(0.11386138613861387, 0.8846153846153846, 'x[2] <= 0.379\\nsquared_error = 1.49\\nsamples = 36\\nvalue = 7.694'),\n",
       " Text(0.0594059405940594, 0.8076923076923077, 'x[1] <= 0.235\\nsquared_error = 0.038\\nsamples = 25\\nvalue = 8.04'),\n",
       " Text(0.039603960396039604, 0.7307692307692307, 'x[1] <= 0.232\\nsquared_error = 0.139\\nsamples = 6\\nvalue = 8.167'),\n",
       " Text(0.019801980198019802, 0.6538461538461539, 'squared_error = 0.0\\nsamples = 5\\nvalue = 8.0'),\n",
       " Text(0.0594059405940594, 0.6538461538461539, 'squared_error = 0.0\\nsamples = 1\\nvalue = 9.0'),\n",
       " Text(0.07920792079207921, 0.7307692307692307, 'squared_error = 0.0\\nsamples = 19\\nvalue = 8.0'),\n",
       " Text(0.16831683168316833, 0.8076923076923077, 'x[2] <= 0.401\\nsquared_error = 3.901\\nsamples = 11\\nvalue = 6.909'),\n",
       " Text(0.1188118811881188, 0.7307692307692307, 'x[2] <= 0.395\\nsquared_error = 0.25\\nsamples = 2\\nvalue = 3.5'),\n",
       " Text(0.09900990099009901, 0.6538461538461539, 'squared_error = 0.0\\nsamples = 1\\nvalue = 4.0'),\n",
       " Text(0.13861386138613863, 0.6538461538461539, 'squared_error = 0.0\\nsamples = 1\\nvalue = 3.0'),\n",
       " Text(0.21782178217821782, 0.7307692307692307, 'x[1] <= 0.432\\nsquared_error = 1.556\\nsamples = 9\\nvalue = 7.667'),\n",
       " Text(0.1782178217821782, 0.6538461538461539, 'x[2] <= 0.491\\nsquared_error = 0.24\\nsamples = 5\\nvalue = 8.4'),\n",
       " Text(0.15841584158415842, 0.5769230769230769, 'squared_error = 0.0\\nsamples = 3\\nvalue = 8.0'),\n",
       " Text(0.19801980198019803, 0.5769230769230769, 'squared_error = 0.0\\nsamples = 2\\nvalue = 9.0'),\n",
       " Text(0.25742574257425743, 0.6538461538461539, 'x[0] <= 0.247\\nsquared_error = 1.688\\nsamples = 4\\nvalue = 6.75'),\n",
       " Text(0.2376237623762376, 0.5769230769230769, 'squared_error = 0.0\\nsamples = 2\\nvalue = 8.0'),\n",
       " Text(0.27722772277227725, 0.5769230769230769, 'x[1] <= 0.456\\nsquared_error = 0.25\\nsamples = 2\\nvalue = 5.5'),\n",
       " Text(0.25742574257425743, 0.5, 'squared_error = 0.0\\nsamples = 1\\nvalue = 5.0'),\n",
       " Text(0.297029702970297, 0.5, 'squared_error = 0.0\\nsamples = 1\\nvalue = 6.0'),\n",
       " Text(0.7827970297029703, 0.8846153846153846, 'x[2] <= 0.874\\nsquared_error = 5.415\\nsamples = 82\\nvalue = 3.78'),\n",
       " Text(0.6547029702970297, 0.8076923076923077, 'x[0] <= 1.286\\nsquared_error = 2.088\\nsamples = 58\\nvalue = 4.655'),\n",
       " Text(0.5668316831683168, 0.7307692307692307, 'x[2] <= 0.707\\nsquared_error = 1.756\\nsamples = 52\\nvalue = 4.885'),\n",
       " Text(0.4504950495049505, 0.6538461538461539, 'x[0] <= 0.855\\nsquared_error = 1.724\\nsamples = 23\\nvalue = 4.435'),\n",
       " Text(0.3564356435643564, 0.5769230769230769, 'x[1] <= 0.248\\nsquared_error = 1.5\\nsamples = 12\\nvalue = 5.0'),\n",
       " Text(0.33663366336633666, 0.5, 'squared_error = 0.0\\nsamples = 1\\nvalue = 3.0'),\n",
       " Text(0.37623762376237624, 0.5, 'x[0] <= 0.779\\nsquared_error = 1.24\\nsamples = 11\\nvalue = 5.182'),\n",
       " Text(0.3069306930693069, 0.4230769230769231, 'x[0] <= 0.72\\nsquared_error = 1.109\\nsamples = 8\\nvalue = 4.875'),\n",
       " Text(0.26732673267326734, 0.34615384615384615, 'x[2] <= 0.673\\nsquared_error = 0.556\\nsamples = 6\\nvalue = 5.333'),\n",
       " Text(0.24752475247524752, 0.2692307692307692, 'x[2] <= 0.615\\nsquared_error = 0.24\\nsamples = 5\\nvalue = 5.6'),\n",
       " Text(0.22772277227722773, 0.19230769230769232, 'x[0] <= 0.546\\nsquared_error = 0.222\\nsamples = 3\\nvalue = 5.333'),\n",
       " Text(0.2079207920792079, 0.11538461538461539, 'squared_error = 0.0\\nsamples = 1\\nvalue = 5.0'),\n",
       " Text(0.24752475247524752, 0.11538461538461539, 'x[1] <= 0.642\\nsquared_error = 0.25\\nsamples = 2\\nvalue = 5.5'),\n",
       " Text(0.22772277227722773, 0.038461538461538464, 'squared_error = 0.0\\nsamples = 1\\nvalue = 5.0'),\n",
       " Text(0.26732673267326734, 0.038461538461538464, 'squared_error = 0.0\\nsamples = 1\\nvalue = 6.0'),\n",
       " Text(0.26732673267326734, 0.19230769230769232, 'squared_error = 0.0\\nsamples = 2\\nvalue = 6.0'),\n",
       " Text(0.2871287128712871, 0.2692307692307692, 'squared_error = 0.0\\nsamples = 1\\nvalue = 4.0'),\n",
       " Text(0.3465346534653465, 0.34615384615384615, 'x[2] <= 0.635\\nsquared_error = 0.25\\nsamples = 2\\nvalue = 3.5'),\n",
       " Text(0.32673267326732675, 0.2692307692307692, 'squared_error = 0.0\\nsamples = 1\\nvalue = 3.0'),\n",
       " Text(0.36633663366336633, 0.2692307692307692, 'squared_error = 0.0\\nsamples = 1\\nvalue = 4.0'),\n",
       " Text(0.44554455445544555, 0.4230769230769231, 'x[0] <= 0.828\\nsquared_error = 0.667\\nsamples = 3\\nvalue = 6.0'),\n",
       " Text(0.42574257425742573, 0.34615384615384615, 'x[2] <= 0.638\\nsquared_error = 0.25\\nsamples = 2\\nvalue = 6.5'),\n",
       " Text(0.40594059405940597, 0.2692307692307692, 'squared_error = 0.0\\nsamples = 1\\nvalue = 7.0'),\n",
       " Text(0.44554455445544555, 0.2692307692307692, 'squared_error = 0.0\\nsamples = 1\\nvalue = 6.0'),\n",
       " Text(0.46534653465346537, 0.34615384615384615, 'squared_error = 0.0\\nsamples = 1\\nvalue = 5.0'),\n",
       " Text(0.5445544554455446, 0.5769230769230769, 'x[0] <= 1.016\\nsquared_error = 1.24\\nsamples = 11\\nvalue = 3.818'),\n",
       " Text(0.504950495049505, 0.5, 'x[1] <= 0.449\\nsquared_error = 0.204\\nsamples = 7\\nvalue = 3.286'),\n",
       " Text(0.48514851485148514, 0.4230769230769231, 'squared_error = 0.0\\nsamples = 5\\nvalue = 3.0'),\n",
       " Text(0.5247524752475248, 0.4230769230769231, 'squared_error = 0.0\\nsamples = 2\\nvalue = 4.0'),\n",
       " Text(0.5841584158415841, 0.5, 'x[1] <= 0.393\\nsquared_error = 1.688\\nsamples = 4\\nvalue = 4.75'),\n",
       " Text(0.5643564356435643, 0.4230769230769231, 'squared_error = 0.0\\nsamples = 2\\nvalue = 6.0'),\n",
       " Text(0.6039603960396039, 0.4230769230769231, 'x[2] <= 0.659\\nsquared_error = 0.25\\nsamples = 2\\nvalue = 3.5'),\n",
       " Text(0.5841584158415841, 0.34615384615384615, 'squared_error = 0.0\\nsamples = 1\\nvalue = 4.0'),\n",
       " Text(0.6237623762376238, 0.34615384615384615, 'squared_error = 0.0\\nsamples = 1\\nvalue = 3.0'),\n",
       " Text(0.6831683168316832, 0.6538461538461539, 'x[2] <= 0.715\\nsquared_error = 1.493\\nsamples = 29\\nvalue = 5.241'),\n",
       " Text(0.6633663366336634, 0.5769230769230769, 'squared_error = 0.0\\nsamples = 1\\nvalue = 8.0'),\n",
       " Text(0.7029702970297029, 0.5769230769230769, 'x[0] <= 1.11\\nsquared_error = 1.265\\nsamples = 28\\nvalue = 5.143'),\n",
       " Text(0.6633663366336634, 0.5, 'x[1] <= 0.215\\nsquared_error = 1.428\\nsamples = 20\\nvalue = 4.85'),\n",
       " Text(0.6435643564356436, 0.4230769230769231, 'squared_error = 0.0\\nsamples = 4\\nvalue = 6.0'),\n",
       " Text(0.6831683168316832, 0.4230769230769231, 'x[1] <= 0.243\\nsquared_error = 1.371\\nsamples = 16\\nvalue = 4.562'),\n",
       " Text(0.6633663366336634, 0.34615384615384615, 'squared_error = 0.0\\nsamples = 1\\nvalue = 3.0'),\n",
       " Text(0.7029702970297029, 0.34615384615384615, 'x[1] <= 0.41\\nsquared_error = 1.289\\nsamples = 15\\nvalue = 4.667'),\n",
       " Text(0.6633663366336634, 0.2692307692307692, 'x[1] <= 0.31\\nsquared_error = 1.44\\nsamples = 5\\nvalue = 5.4'),\n",
       " Text(0.6435643564356436, 0.19230769230769232, 'x[1] <= 0.261\\nsquared_error = 2.25\\nsamples = 2\\nvalue = 4.5'),\n",
       " Text(0.6237623762376238, 0.11538461538461539, 'squared_error = 0.0\\nsamples = 1\\nvalue = 6.0'),\n",
       " Text(0.6633663366336634, 0.11538461538461539, 'squared_error = 0.0\\nsamples = 1\\nvalue = 3.0'),\n",
       " Text(0.6831683168316832, 0.19230769230769232, 'squared_error = 0.0\\nsamples = 3\\nvalue = 6.0'),\n",
       " Text(0.7425742574257426, 0.2692307692307692, 'x[2] <= 0.816\\nsquared_error = 0.81\\nsamples = 10\\nvalue = 4.3'),\n",
       " Text(0.7227722772277227, 0.19230769230769232, 'squared_error = 0.0\\nsamples = 7\\nvalue = 4.0'),\n",
       " Text(0.7623762376237624, 0.19230769230769232, 'x[2] <= 0.838\\nsquared_error = 2.0\\nsamples = 3\\nvalue = 5.0'),\n",
       " Text(0.7425742574257426, 0.11538461538461539, 'squared_error = 0.0\\nsamples = 1\\nvalue = 7.0'),\n",
       " Text(0.7821782178217822, 0.11538461538461539, 'squared_error = 0.0\\nsamples = 2\\nvalue = 4.0'),\n",
       " Text(0.7425742574257426, 0.5, 'x[2] <= 0.724\\nsquared_error = 0.109\\nsamples = 8\\nvalue = 5.875'),\n",
       " Text(0.7227722772277227, 0.4230769230769231, 'squared_error = 0.0\\nsamples = 1\\nvalue = 5.0'),\n",
       " Text(0.7623762376237624, 0.4230769230769231, 'squared_error = 0.0\\nsamples = 7\\nvalue = 6.0'),\n",
       " Text(0.7425742574257426, 0.7307692307692307, 'x[2] <= 0.836\\nsquared_error = 0.556\\nsamples = 6\\nvalue = 2.667'),\n",
       " Text(0.7227722772277227, 0.6538461538461539, 'squared_error = 0.0\\nsamples = 5\\nvalue = 3.0'),\n",
       " Text(0.7623762376237624, 0.6538461538461539, 'squared_error = 0.0\\nsamples = 1\\nvalue = 1.0'),\n",
       " Text(0.9108910891089109, 0.8076923076923077, 'x[2] <= 0.961\\nsquared_error = 7.139\\nsamples = 24\\nvalue = 1.667'),\n",
       " Text(0.8613861386138614, 0.7307692307692307, 'x[1] <= 0.436\\nsquared_error = 2.81\\nsamples = 20\\nvalue = 0.7'),\n",
       " Text(0.8217821782178217, 0.6538461538461539, 'x[0] <= 1.271\\nsquared_error = 8.222\\nsamples = 3\\nvalue = 3.333'),\n",
       " Text(0.801980198019802, 0.5769230769230769, 'x[1] <= 0.338\\nsquared_error = 2.25\\nsamples = 2\\nvalue = 1.5'),\n",
       " Text(0.7821782178217822, 0.5, 'squared_error = 0.0\\nsamples = 1\\nvalue = 0.0'),\n",
       " Text(0.8217821782178217, 0.5, 'squared_error = 0.0\\nsamples = 1\\nvalue = 3.0'),\n",
       " Text(0.8415841584158416, 0.5769230769230769, 'squared_error = 0.0\\nsamples = 1\\nvalue = 7.0'),\n",
       " Text(0.900990099009901, 0.6538461538461539, 'x[1] <= 0.632\\nsquared_error = 0.415\\nsamples = 17\\nvalue = 0.235'),\n",
       " Text(0.8811881188118812, 0.5769230769230769, 'squared_error = 0.0\\nsamples = 10\\nvalue = 0.0'),\n",
       " Text(0.9207920792079208, 0.5769230769230769, 'x[1] <= 0.641\\nsquared_error = 0.816\\nsamples = 7\\nvalue = 0.571'),\n",
       " Text(0.900990099009901, 0.5, 'squared_error = 0.0\\nsamples = 1\\nvalue = 2.0'),\n",
       " Text(0.9405940594059405, 0.5, 'x[2] <= 0.921\\nsquared_error = 0.556\\nsamples = 6\\nvalue = 0.333'),\n",
       " Text(0.9207920792079208, 0.4230769230769231, 'squared_error = 0.0\\nsamples = 4\\nvalue = 0.0'),\n",
       " Text(0.9603960396039604, 0.4230769230769231, 'x[1] <= 0.658\\nsquared_error = 1.0\\nsamples = 2\\nvalue = 1.0'),\n",
       " Text(0.9405940594059405, 0.34615384615384615, 'squared_error = 0.0\\nsamples = 1\\nvalue = 2.0'),\n",
       " Text(0.9801980198019802, 0.34615384615384615, 'squared_error = 0.0\\nsamples = 1\\nvalue = 0.0'),\n",
       " Text(0.9603960396039604, 0.7307692307692307, 'x[0] <= 1.454\\nsquared_error = 0.75\\nsamples = 4\\nvalue = 6.5'),\n",
       " Text(0.9405940594059405, 0.6538461538461539, 'squared_error = 0.0\\nsamples = 3\\nvalue = 7.0'),\n",
       " Text(0.9801980198019802, 0.6538461538461539, 'squared_error = 0.0\\nsamples = 1\\nvalue = 5.0')]"
      ]
     },
     "execution_count": 64,
     "metadata": {},
     "output_type": "execute_result"
    },
    {
     "data": {
      "image/png": "[encoded data removed]",
      "text/plain": [
       "<Figure size 640x480 with 1 Axes>"
      ]
     },
     "metadata": {},
     "output_type": "display_data"
    }
   ],
   "source": [
    "x_test = test_set[['Economy (GDP per Capita)', 'Freedom', 'Health (Life Expectancy)']]\n",
    "y_test = test_set[['Region Category']]\n",
    "\n",
    "y_test_pred = clf.predict(x_test)\n",
    "\n",
    "print(f'r^2 for initial decision tree: {r2_score(y_test, y_test_pred)}')\n",
    "print(f'MSE for initial decision tree: {mean_squared_error(y_test, y_test_pred)}')\n",
    "\n",
    "tree.plot_tree(clf)"
   ]
  },
  {
   "cell_type": "markdown",
   "id": "a461a6d3-2db1-4032-b12e-adb2f8424d77",
   "metadata": {},
   "source": [
    "These results are more realistic. Let's try another classifier, SVM:"
   ]
  },
  {
   "cell_type": "code",
   "execution_count": 66,
   "id": "e7fe4706-bf9d-44c3-8af4-cf3a44033a52",
   "metadata": {},
   "outputs": [
    {
     "name": "stdout",
     "output_type": "stream",
     "text": [
      "r^2 for initial decision tree: 0.37565536946002365\n",
      "MSE for initial decision tree: 4.661016949152542\n"
     ]
    }
   ],
   "source": [
    "from sklearn import svm\n",
    "\n",
    "clf_2 = svm.SVC()\n",
    "# y_train = y_train.values.ravel()\n",
    "clf_2.fit(x_train, y_train)\n",
    "\n",
    "y_train_pred = clf_2.predict(x_train)\n",
    "\n",
    "print(f'r^2 for initial decision tree: {r2_score(y_train, y_train_pred)}')\n",
    "print(f'MSE for initial decision tree: {mean_squared_error(y_train, y_train_pred)}')"
   ]
  },
  {
   "cell_type": "markdown",
   "id": "fb9cdaae-2275-401d-8036-35405264a9e5",
   "metadata": {},
   "source": [
    "Looking pretty bad so far. We'll see how bad it is in testing:"
   ]
  },
  {
   "cell_type": "code",
   "execution_count": 67,
   "id": "75e35935-b579-45f6-ade5-d67a73e697b6",
   "metadata": {},
   "outputs": [
    {
     "name": "stdout",
     "output_type": "stream",
     "text": [
      "r^2 for initial decision tree: 0.5628587153078073\n",
      "MSE for initial decision tree: 3.475\n"
     ]
    }
   ],
   "source": [
    "y_test_pred = clf_2.predict(x_test)\n",
    "\n",
    "print(f'r^2 for initial decision tree: {r2_score(y_test, y_test_pred)}')\n",
    "print(f'MSE for initial decision tree: {mean_squared_error(y_test, y_test_pred)}')\n"
   ]
  },
  {
   "cell_type": "markdown",
   "id": "5b6948ed-532f-4d1a-a970-a1aec51bb2fc",
   "metadata": {},
   "source": [
    "Our model actually performs better in testing than training. I think we will stick with our original CLF."
   ]
  },
  {
   "cell_type": "markdown",
   "id": "9e500ad3-bdfc-425f-a2fc-4ec898e13b4a",
   "metadata": {},
   "source": [
    "### Summary:\n",
    "We analyzed freedom, economy, and GDP to predict the region a country came from. I am guessing that Happiness would've been strongly indicative of region as well, but the original plan was to use a decision tree to predict happiness. Obviously, region by category is a better thing to predict since it is much simpler. Regardless, this provided valuable insight into the workings of decision trees and how I can practically apply them."
   ]
  },
  {
   "cell_type": "code",
   "execution_count": null,
   "id": "e0a3b330-afcf-490d-970c-8a17258f86ae",
   "metadata": {},
   "outputs": [],
   "source": []
  }
 ],
 "metadata": {
  "kernelspec": {
   "display_name": "Python 3 (ipykernel)",
   "language": "python",
   "name": "python3"
  },
  "language_info": {
   "codemirror_mode": {
    "name": "ipython",
    "version": 3
   },
   "file_extension": ".py",
   "mimetype": "text/x-python",
   "name": "python",
   "nbconvert_exporter": "python",
   "pygments_lexer": "ipython3",
   "version": "3.11.5"
  }
 },
 "nbformat": 4,
 "nbformat_minor": 5
}
