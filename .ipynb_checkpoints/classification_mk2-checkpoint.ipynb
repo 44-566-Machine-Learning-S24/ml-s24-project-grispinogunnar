{
 "cells": [
  {
   "cell_type": "markdown",
   "id": "7f5a41ec-b772-4af4-b602-161d8819d847",
   "metadata": {},
   "source": [
    "# classification_mk2\n",
    "Loading up our data:"
   ]
  },
  {
   "cell_type": "code",
   "execution_count": 1,
   "id": "004036c5-5fb8-464b-9692-df57898724d3",
   "metadata": {},
   "outputs": [],
   "source": [
    "import pandas as pd\n",
    "import pickle\n",
    "\n",
    "with open('df.pkl', 'rb') as f:\n",
    "    df = pickle.load(f)"
   ]
  },
  {
   "cell_type": "markdown",
   "id": "ce11c42b-4a82-43ef-a7a0-7aaa8a3fdc58",
   "metadata": {},
   "source": [
    "Let's create a decision tree and see if we can correctly classify the country's region."
   ]
  },
  {
   "cell_type": "code",
   "execution_count": 4,
   "id": "e661d3fa-6d76-486d-a987-25f4fae2fc4b",
   "metadata": {},
   "outputs": [
    {
     "ename": "SyntaxError",
     "evalue": "invalid syntax (529170872.py, line 7)",
     "output_type": "error",
     "traceback": [
      "\u001b[1;36m  Cell \u001b[1;32mIn[4], line 7\u001b[1;36m\u001b[0m\n\u001b[1;33m    clf =\u001b[0m\n\u001b[1;37m          ^\u001b[0m\n\u001b[1;31mSyntaxError\u001b[0m\u001b[1;31m:\u001b[0m invalid syntax\n"
     ]
    }
   ],
   "source": [
    "from sklearn.model_selection import train_test_split\n",
    "from sklearn import tree\n",
    "from sklearn.metrics import r2_score, mean_squared_error\n",
    "\n",
    "train, test = train_test_split(df, test_size=0.2)\n",
    "work = train.copy()\n",
    "\n",
    "x = work[['Economy (GDP per Capita)', 'Freedom', 'Health (Life Expectancy)', 'Happiness Score']]\n",
    "y = work[['Region Category']]\n",
    "\n",
    "dt_1 = tree.DecisionTreeRegressor()\n",
    "dt_1 = dt_1.fit("
   ]
  },
  {
   "cell_type": "code",
   "execution_count": null,
   "id": "a9a7c9d8-1ea3-4a61-95f8-414da71f1dc5",
   "metadata": {},
   "outputs": [],
   "source": []
  }
 ],
 "metadata": {
  "kernelspec": {
   "display_name": "Python 3 (ipykernel)",
   "language": "python",
   "name": "python3"
  },
  "language_info": {
   "codemirror_mode": {
    "name": "ipython",
    "version": 3
   },
   "file_extension": ".py",
   "mimetype": "text/x-python",
   "name": "python",
   "nbconvert_exporter": "python",
   "pygments_lexer": "ipython3",
   "version": "3.11.5"
  }
 },
 "nbformat": 4,
 "nbformat_minor": 5
}
