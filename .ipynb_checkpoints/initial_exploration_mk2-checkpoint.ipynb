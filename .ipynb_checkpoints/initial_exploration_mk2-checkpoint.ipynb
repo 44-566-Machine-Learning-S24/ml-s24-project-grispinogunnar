{
 "cells": [
  {
   "cell_type": "markdown",
   "id": "655c86a4-05a7-4501-a292-52dbc9a63ce4",
   "metadata": {},
   "source": [
    "# initial_exploration_mk2"
   ]
  },
  {
   "cell_type": "code",
   "execution_count": null,
   "id": "1af0d71b-221e-4709-a4a7-a11de0685e00",
   "metadata": {},
   "outputs": [],
   "source": [
    "import pandas as pd\n",
    "import pickle\n"
   ]
  }
 ],
 "metadata": {
  "kernelspec": {
   "display_name": "Python 3 (ipykernel)",
   "language": "python",
   "name": "python3"
  },
  "language_info": {
   "codemirror_mode": {
    "name": "ipython",
    "version": 3
   },
   "file_extension": ".py",
   "mimetype": "text/x-python",
   "name": "python",
   "nbconvert_exporter": "python",
   "pygments_lexer": "ipython3",
   "version": "3.11.5"
  }
 },
 "nbformat": 4,
 "nbformat_minor": 5
}
