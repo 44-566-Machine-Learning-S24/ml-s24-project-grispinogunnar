{
 "cells": [
  {
   "cell_type": "markdown",
   "id": "5dce7f53-4820-4e4c-bb91-3c4e63e343cc",
   "metadata": {},
   "source": [
    "# Initial Exploration\n",
    "## Global Happiness Rankings (2015, via Kaggle)"
   ]
  },
  {
   "cell_type": "markdown",
   "id": "2cae4783-7575-402f-a437-578dc01fbaea",
   "metadata": {},
   "source": [
    "### Initial Data Prep"
   ]
  },
  {
   "cell_type": "code",
   "execution_count": 8,
   "id": "c5084cf4-10f7-43d1-b932-d465b1de8e16",
   "metadata": {},
   "outputs": [
    {
     "name": "stdout",
     "output_type": "stream",
     "text": [
      "1534 520\n",
      "1534 520\n"
     ]
    }
   ],
   "source": [
    "import pandas as pd\n",
    "from sklearn.model_selection import train_test_split\n",
    "\n",
    "data_df = pd.read_csv('2015.csv')\n",
    "\n",
    "# Clean the data\n",
    "data_df = data_df.dropna()\n",
    "\n",
    "# print(data_df['Region'].unique())\n",
    "def map_region(region):\n",
    "    region_map = {'Western Europe':0, 'North America':1, 'Australia and New Zealand':2, 'Middle East and Northern Africa':3, 'Latin America and Caribbean':4, 'Southeastern Asia':5, 'Central and Eastern Europe':6, 'Eastern Asia':7, 'Sub-Saharan Africa':8, 'Southern Asia':9}\n",
    "    return region_map.get(region)\n",
    "\n",
    "data_df['Region Category'] = data_df['Region'].apply(map_region)\n",
    "# print(data_df.head())\n",
    "train_set, test_set = train_test_split(data_df, test_size=0.25, random_state=101)\n",
    "\n",
    "print(train_set.size, test_set.size)\n",
    "train_set.dropna()\n",
    "test_set.dropna()\n",
    "# No data was lost. Yippee!!\n",
    "print(train_set.size, test_set.size)"
   ]
  },
  {
   "cell_type": "markdown",
   "id": "e972e82f-c81b-4765-89fb-a024f1e9eac2",
   "metadata": {},
   "source": [
    "### Features/Target:\n",
    "#### Features: \n",
    "* Economy (GDP per Capita)\n",
    "    * Strongly indicative of the overall economic health of a country\n",
    "* Freedom\n",
    "    * Can be useful for extrapolating region data\n",
    "* Health\n",
    "    * Also indicative of the eonomy/health of a country\n",
    "#### Target:\n",
    "* Region\n",
    "    * Can hopefully be predicted based on the above features."
   ]
  },
  {
   "cell_type": "code",
   "execution_count": 9,
   "id": "099dd18a-5420-42e3-a77b-6bff53a0c06a",
   "metadata": {},
   "outputs": [
    {
     "name": "stdout",
     "output_type": "stream",
     "text": [
      "r^2 for initial decision tree: 1.0\n",
      "MSE for initial decision tree: 0.0\n"
     ]
    }
   ],
   "source": [
    "from sklearn import tree\n",
    "from sklearn.metrics import r2_score, mean_squared_error\n",
    "x_train = train_set[['Economy (GDP per Capita)', 'Freedom', 'Health (Life Expectancy)']]\n",
    "y_train = train_set[['Region Category']]\n",
    "\n",
    "clf = tree.DecisionTreeRegressor()\n",
    "clf = clf.fit(x_train, y_train)\n",
    "\n",
    "y_train_pred = clf.predict(x_train)\n",
    "\n",
    "print(f'r^2 for initial decision tree: {r2_score(y_train, y_train_pred)}')\n",
    "print(f'MSE for initial decision tree: {mean_squared_error(y_train, y_train_pred)}')"
   ]
  },
  {
   "cell_type": "markdown",
   "id": "8e09dea5-b04a-44b4-839f-ab9adc86ea7a",
   "metadata": {},
   "source": [
    "### Analysis:\n",
    "The r^2 and MSE are suspiciously good. We will try the model on the test set to validate its performance."
   ]
  },
  {
   "cell_type": "code",
   "execution_count": 10,
   "id": "89541faa-0bd9-4e7a-a123-32f0f28c2c91",
   "metadata": {
    "scrolled": true
   },
   "outputs": [
    {
     "name": "stdout",
     "output_type": "stream",
     "text": [
      "r^2 for initial decision tree: 0.7075241764289646\n",
      "MSE for initial decision tree: 2.325\n"
     ]
    },
    {
     "data": {
      "text/plain": [
       "[Text(0.4477040816326531, 0.9583333333333334, 'x[2] <= 0.577\\nsquared_error = 7.465\\nsamples = 118\\nvalue = 4.975'),\n",
       " Text(0.11734693877551021, 0.875, 'x[2] <= 0.379\\nsquared_error = 1.49\\nsamples = 36\\nvalue = 7.694'),\n",
       " Text(0.061224489795918366, 0.7916666666666666, 'x[1] <= 0.235\\nsquared_error = 0.038\\nsamples = 25\\nvalue = 8.04'),\n",
       " Text(0.04081632653061224, 0.7083333333333334, 'x[1] <= 0.232\\nsquared_error = 0.139\\nsamples = 6\\nvalue = 8.167'),\n",
       " Text(0.02040816326530612, 0.625, 'squared_error = 0.0\\nsamples = 5\\nvalue = 8.0'),\n",
       " Text(0.061224489795918366, 0.625, 'squared_error = 0.0\\nsamples = 1\\nvalue = 9.0'),\n",
       " Text(0.08163265306122448, 0.7083333333333334, 'squared_error = 0.0\\nsamples = 19\\nvalue = 8.0'),\n",
       " Text(0.17346938775510204, 0.7916666666666666, 'x[2] <= 0.401\\nsquared_error = 3.901\\nsamples = 11\\nvalue = 6.909'),\n",
       " Text(0.12244897959183673, 0.7083333333333334, 'x[0] <= 0.407\\nsquared_error = 0.25\\nsamples = 2\\nvalue = 3.5'),\n",
       " Text(0.10204081632653061, 0.625, 'squared_error = 0.0\\nsamples = 1\\nvalue = 4.0'),\n",
       " Text(0.14285714285714285, 0.625, 'squared_error = 0.0\\nsamples = 1\\nvalue = 3.0'),\n",
       " Text(0.22448979591836735, 0.7083333333333334, 'x[1] <= 0.432\\nsquared_error = 1.556\\nsamples = 9\\nvalue = 7.667'),\n",
       " Text(0.1836734693877551, 0.625, 'x[2] <= 0.491\\nsquared_error = 0.24\\nsamples = 5\\nvalue = 8.4'),\n",
       " Text(0.16326530612244897, 0.5416666666666666, 'squared_error = 0.0\\nsamples = 3\\nvalue = 8.0'),\n",
       " Text(0.20408163265306123, 0.5416666666666666, 'squared_error = 0.0\\nsamples = 2\\nvalue = 9.0'),\n",
       " Text(0.2653061224489796, 0.625, 'x[0] <= 0.247\\nsquared_error = 1.688\\nsamples = 4\\nvalue = 6.75'),\n",
       " Text(0.24489795918367346, 0.5416666666666666, 'squared_error = 0.0\\nsamples = 2\\nvalue = 8.0'),\n",
       " Text(0.2857142857142857, 0.5416666666666666, 'x[2] <= 0.528\\nsquared_error = 0.25\\nsamples = 2\\nvalue = 5.5'),\n",
       " Text(0.2653061224489796, 0.4583333333333333, 'squared_error = 0.0\\nsamples = 1\\nvalue = 5.0'),\n",
       " Text(0.30612244897959184, 0.4583333333333333, 'squared_error = 0.0\\nsamples = 1\\nvalue = 6.0'),\n",
       " Text(0.7780612244897959, 0.875, 'x[2] <= 0.874\\nsquared_error = 5.415\\nsamples = 82\\nvalue = 3.78'),\n",
       " Text(0.6479591836734694, 0.7916666666666666, 'x[0] <= 1.286\\nsquared_error = 2.088\\nsamples = 58\\nvalue = 4.655'),\n",
       " Text(0.5612244897959183, 0.7083333333333334, 'x[2] <= 0.707\\nsquared_error = 1.756\\nsamples = 52\\nvalue = 4.885'),\n",
       " Text(0.4489795918367347, 0.625, 'x[0] <= 0.855\\nsquared_error = 1.724\\nsamples = 23\\nvalue = 4.435'),\n",
       " Text(0.3673469387755102, 0.5416666666666666, 'x[1] <= 0.248\\nsquared_error = 1.5\\nsamples = 12\\nvalue = 5.0'),\n",
       " Text(0.3469387755102041, 0.4583333333333333, 'squared_error = 0.0\\nsamples = 1\\nvalue = 3.0'),\n",
       " Text(0.3877551020408163, 0.4583333333333333, 'x[2] <= 0.606\\nsquared_error = 1.24\\nsamples = 11\\nvalue = 5.182'),\n",
       " Text(0.3469387755102041, 0.375, 'x[1] <= 0.531\\nsquared_error = 0.667\\nsamples = 3\\nvalue = 6.0'),\n",
       " Text(0.32653061224489793, 0.2916666666666667, 'squared_error = 0.0\\nsamples = 1\\nvalue = 7.0'),\n",
       " Text(0.3673469387755102, 0.2916666666666667, 'x[1] <= 0.642\\nsquared_error = 0.25\\nsamples = 2\\nvalue = 5.5'),\n",
       " Text(0.3469387755102041, 0.20833333333333334, 'squared_error = 0.0\\nsamples = 1\\nvalue = 5.0'),\n",
       " Text(0.3877551020408163, 0.20833333333333334, 'squared_error = 0.0\\nsamples = 1\\nvalue = 6.0'),\n",
       " Text(0.42857142857142855, 0.375, 'x[2] <= 0.61\\nsquared_error = 1.109\\nsamples = 8\\nvalue = 4.875'),\n",
       " Text(0.40816326530612246, 0.2916666666666667, 'squared_error = 0.0\\nsamples = 1\\nvalue = 3.0'),\n",
       " Text(0.4489795918367347, 0.2916666666666667, 'x[1] <= 0.365\\nsquared_error = 0.694\\nsamples = 7\\nvalue = 5.143'),\n",
       " Text(0.42857142857142855, 0.20833333333333334, 'squared_error = 0.0\\nsamples = 2\\nvalue = 6.0'),\n",
       " Text(0.46938775510204084, 0.20833333333333334, 'x[2] <= 0.656\\nsquared_error = 0.56\\nsamples = 5\\nvalue = 4.8'),\n",
       " Text(0.4489795918367347, 0.125, 'x[2] <= 0.644\\nsquared_error = 0.222\\nsamples = 3\\nvalue = 5.333'),\n",
       " Text(0.42857142857142855, 0.041666666666666664, 'squared_error = 0.0\\nsamples = 2\\nvalue = 5.0'),\n",
       " Text(0.46938775510204084, 0.041666666666666664, 'squared_error = 0.0\\nsamples = 1\\nvalue = 6.0'),\n",
       " Text(0.4897959183673469, 0.125, 'squared_error = 0.0\\nsamples = 2\\nvalue = 4.0'),\n",
       " Text(0.5306122448979592, 0.5416666666666666, 'x[0] <= 1.016\\nsquared_error = 1.24\\nsamples = 11\\nvalue = 3.818'),\n",
       " Text(0.4897959183673469, 0.4583333333333333, 'x[1] <= 0.449\\nsquared_error = 0.204\\nsamples = 7\\nvalue = 3.286'),\n",
       " Text(0.46938775510204084, 0.375, 'squared_error = 0.0\\nsamples = 5\\nvalue = 3.0'),\n",
       " Text(0.5102040816326531, 0.375, 'squared_error = 0.0\\nsamples = 2\\nvalue = 4.0'),\n",
       " Text(0.5714285714285714, 0.4583333333333333, 'x[1] <= 0.393\\nsquared_error = 1.688\\nsamples = 4\\nvalue = 4.75'),\n",
       " Text(0.5510204081632653, 0.375, 'squared_error = 0.0\\nsamples = 2\\nvalue = 6.0'),\n",
       " Text(0.5918367346938775, 0.375, 'x[0] <= 1.172\\nsquared_error = 0.25\\nsamples = 2\\nvalue = 3.5'),\n",
       " Text(0.5714285714285714, 0.2916666666666667, 'squared_error = 0.0\\nsamples = 1\\nvalue = 3.0'),\n",
       " Text(0.6122448979591837, 0.2916666666666667, 'squared_error = 0.0\\nsamples = 1\\nvalue = 4.0'),\n",
       " Text(0.673469387755102, 0.625, 'x[2] <= 0.715\\nsquared_error = 1.493\\nsamples = 29\\nvalue = 5.241'),\n",
       " Text(0.6530612244897959, 0.5416666666666666, 'squared_error = 0.0\\nsamples = 1\\nvalue = 8.0'),\n",
       " Text(0.6938775510204082, 0.5416666666666666, 'x[0] <= 1.11\\nsquared_error = 1.265\\nsamples = 28\\nvalue = 5.143'),\n",
       " Text(0.6530612244897959, 0.4583333333333333, 'x[1] <= 0.215\\nsquared_error = 1.428\\nsamples = 20\\nvalue = 4.85'),\n",
       " Text(0.6326530612244898, 0.375, 'squared_error = 0.0\\nsamples = 4\\nvalue = 6.0'),\n",
       " Text(0.673469387755102, 0.375, 'x[1] <= 0.243\\nsquared_error = 1.371\\nsamples = 16\\nvalue = 4.562'),\n",
       " Text(0.6530612244897959, 0.2916666666666667, 'squared_error = 0.0\\nsamples = 1\\nvalue = 3.0'),\n",
       " Text(0.6938775510204082, 0.2916666666666667, 'x[1] <= 0.41\\nsquared_error = 1.289\\nsamples = 15\\nvalue = 4.667'),\n",
       " Text(0.6530612244897959, 0.20833333333333334, 'x[1] <= 0.31\\nsquared_error = 1.44\\nsamples = 5\\nvalue = 5.4'),\n",
       " Text(0.6326530612244898, 0.125, 'x[0] <= 0.982\\nsquared_error = 2.25\\nsamples = 2\\nvalue = 4.5'),\n",
       " Text(0.6122448979591837, 0.041666666666666664, 'squared_error = 0.0\\nsamples = 1\\nvalue = 3.0'),\n",
       " Text(0.6530612244897959, 0.041666666666666664, 'squared_error = 0.0\\nsamples = 1\\nvalue = 6.0'),\n",
       " Text(0.673469387755102, 0.125, 'squared_error = 0.0\\nsamples = 3\\nvalue = 6.0'),\n",
       " Text(0.7346938775510204, 0.20833333333333334, 'x[2] <= 0.816\\nsquared_error = 0.81\\nsamples = 10\\nvalue = 4.3'),\n",
       " Text(0.7142857142857143, 0.125, 'squared_error = 0.0\\nsamples = 7\\nvalue = 4.0'),\n",
       " Text(0.7551020408163265, 0.125, 'x[0] <= 0.923\\nsquared_error = 2.0\\nsamples = 3\\nvalue = 5.0'),\n",
       " Text(0.7346938775510204, 0.041666666666666664, 'squared_error = 0.0\\nsamples = 1\\nvalue = 7.0'),\n",
       " Text(0.7755102040816326, 0.041666666666666664, 'squared_error = 0.0\\nsamples = 2\\nvalue = 4.0'),\n",
       " Text(0.7346938775510204, 0.4583333333333333, 'x[2] <= 0.724\\nsquared_error = 0.109\\nsamples = 8\\nvalue = 5.875'),\n",
       " Text(0.7142857142857143, 0.375, 'squared_error = 0.0\\nsamples = 1\\nvalue = 5.0'),\n",
       " Text(0.7551020408163265, 0.375, 'squared_error = 0.0\\nsamples = 7\\nvalue = 6.0'),\n",
       " Text(0.7346938775510204, 0.7083333333333334, 'x[2] <= 0.836\\nsquared_error = 0.556\\nsamples = 6\\nvalue = 2.667'),\n",
       " Text(0.7142857142857143, 0.625, 'squared_error = 0.0\\nsamples = 5\\nvalue = 3.0'),\n",
       " Text(0.7551020408163265, 0.625, 'squared_error = 0.0\\nsamples = 1\\nvalue = 1.0'),\n",
       " Text(0.9081632653061225, 0.7916666666666666, 'x[2] <= 0.961\\nsquared_error = 7.139\\nsamples = 24\\nvalue = 1.667'),\n",
       " Text(0.8571428571428571, 0.7083333333333334, 'x[1] <= 0.436\\nsquared_error = 2.81\\nsamples = 20\\nvalue = 0.7'),\n",
       " Text(0.8163265306122449, 0.625, 'x[0] <= 1.271\\nsquared_error = 8.222\\nsamples = 3\\nvalue = 3.333'),\n",
       " Text(0.7959183673469388, 0.5416666666666666, 'x[2] <= 0.934\\nsquared_error = 2.25\\nsamples = 2\\nvalue = 1.5'),\n",
       " Text(0.7755102040816326, 0.4583333333333333, 'squared_error = 0.0\\nsamples = 1\\nvalue = 3.0'),\n",
       " Text(0.8163265306122449, 0.4583333333333333, 'squared_error = 0.0\\nsamples = 1\\nvalue = 0.0'),\n",
       " Text(0.8367346938775511, 0.5416666666666666, 'squared_error = 0.0\\nsamples = 1\\nvalue = 7.0'),\n",
       " Text(0.8979591836734694, 0.625, 'x[1] <= 0.632\\nsquared_error = 0.415\\nsamples = 17\\nvalue = 0.235'),\n",
       " Text(0.8775510204081632, 0.5416666666666666, 'squared_error = 0.0\\nsamples = 10\\nvalue = 0.0'),\n",
       " Text(0.9183673469387755, 0.5416666666666666, 'x[1] <= 0.641\\nsquared_error = 0.816\\nsamples = 7\\nvalue = 0.571'),\n",
       " Text(0.8979591836734694, 0.4583333333333333, 'squared_error = 0.0\\nsamples = 1\\nvalue = 2.0'),\n",
       " Text(0.9387755102040817, 0.4583333333333333, 'x[2] <= 0.921\\nsquared_error = 0.556\\nsamples = 6\\nvalue = 0.333'),\n",
       " Text(0.9183673469387755, 0.375, 'squared_error = 0.0\\nsamples = 4\\nvalue = 0.0'),\n",
       " Text(0.9591836734693877, 0.375, 'x[1] <= 0.658\\nsquared_error = 1.0\\nsamples = 2\\nvalue = 1.0'),\n",
       " Text(0.9387755102040817, 0.2916666666666667, 'squared_error = 0.0\\nsamples = 1\\nvalue = 2.0'),\n",
       " Text(0.9795918367346939, 0.2916666666666667, 'squared_error = 0.0\\nsamples = 1\\nvalue = 0.0'),\n",
       " Text(0.9591836734693877, 0.7083333333333334, 'x[0] <= 1.454\\nsquared_error = 0.75\\nsamples = 4\\nvalue = 6.5'),\n",
       " Text(0.9387755102040817, 0.625, 'squared_error = 0.0\\nsamples = 3\\nvalue = 7.0'),\n",
       " Text(0.9795918367346939, 0.625, 'squared_error = 0.0\\nsamples = 1\\nvalue = 5.0')]"
      ]
     },
     "execution_count": 10,
     "metadata": {},
     "output_type": "execute_result"
    },
    {
     "data": {
      "image/png": "[encoded data removed]",
      "text/plain": [
       "<Figure size 640x480 with 1 Axes>"
      ]
     },
     "metadata": {},
     "output_type": "display_data"
    }
   ],
   "source": [
    "x_test = test_set[['Economy (GDP per Capita)', 'Freedom', 'Health (Life Expectancy)']]\n",
    "y_test = test_set[['Region Category']]\n",
    "\n",
    "y_test_pred = clf.predict(x_test)\n",
    "\n",
    "print(f'r^2 for initial decision tree: {r2_score(y_test, y_test_pred)}')\n",
    "print(f'MSE for initial decision tree: {mean_squared_error(y_test, y_test_pred)}')\n",
    "\n",
    "tree.plot_tree(clf)"
   ]
  },
  {
   "cell_type": "markdown",
   "id": "a461a6d3-2db1-4032-b12e-adb2f8424d77",
   "metadata": {},
   "source": [
    "These results are more realistic. Let's try another classifier, SVM:"
   ]
  },
  {
   "cell_type": "code",
   "execution_count": 11,
   "id": "e7fe4706-bf9d-44c3-8af4-cf3a44033a52",
   "metadata": {},
   "outputs": [
    {
     "name": "stdout",
     "output_type": "stream",
     "text": [
      "r^2 for initial decision tree: 0.37565536946002365\n",
      "MSE for initial decision tree: 4.661016949152542\n"
     ]
    }
   ],
   "source": [
    "from sklearn import svm\n",
    "\n",
    "clf_2 = svm.SVC()\n",
    "y_train = y_train.values.ravel()\n",
    "clf_2.fit(x_train, y_train)\n",
    "\n",
    "y_train_pred = clf_2.predict(x_train)\n",
    "\n",
    "print(f'r^2 for initial decision tree: {r2_score(y_train, y_train_pred)}')\n",
    "print(f'MSE for initial decision tree: {mean_squared_error(y_train, y_train_pred)}')"
   ]
  },
  {
   "cell_type": "markdown",
   "id": "fb9cdaae-2275-401d-8036-35405264a9e5",
   "metadata": {},
   "source": [
    "Looking pretty bad so far. We'll see how bad it is in testing:"
   ]
  },
  {
   "cell_type": "code",
   "execution_count": 13,
   "id": "75e35935-b579-45f6-ade5-d67a73e697b6",
   "metadata": {},
   "outputs": [
    {
     "name": "stdout",
     "output_type": "stream",
     "text": [
      "r^2 for initial decision tree: 0.5628587153078073\n",
      "MSE for initial decision tree: 3.475\n"
     ]
    }
   ],
   "source": [
    "y_test_pred = clf_2.predict(x_test)\n",
    "\n",
    "print(f'r^2 for initial decision tree: {r2_score(y_test, y_test_pred)}')\n",
    "print(f'MSE for initial decision tree: {mean_squared_error(y_test, y_test_pred)}')\n"
   ]
  },
  {
   "cell_type": "markdown",
   "id": "5b6948ed-532f-4d1a-a970-a1aec51bb2fc",
   "metadata": {},
   "source": [
    "Our model actually performs better in testing than training. I think we will stick with our original CLF."
   ]
  },
  {
   "cell_type": "markdown",
   "id": "9e500ad3-bdfc-425f-a2fc-4ec898e13b4a",
   "metadata": {},
   "source": [
    "### Summary:\n",
    "We analyzed freedom, economy, and GDP to predict the region a country came from. I am guessing that Happiness would've been strongly indicative of region as well, but the original plan was to use a decision tree to predict happiness. Obviously, region by category is a better thing to predict since it is much simpler. Regardless, this provided valuable insight into the workings of decision trees and how I can practically apply them."
   ]
  }
 ],
 "metadata": {
  "kernelspec": {
   "display_name": "Python 3 (ipykernel)",
   "language": "python",
   "name": "python3"
  },
  "language_info": {
   "codemirror_mode": {
    "name": "ipython",
    "version": 3
   },
   "file_extension": ".py",
   "mimetype": "text/x-python",
   "name": "python",
   "nbconvert_exporter": "python",
   "pygments_lexer": "ipython3",
   "version": "3.11.5"
  }
 },
 "nbformat": 4,
 "nbformat_minor": 5
}
