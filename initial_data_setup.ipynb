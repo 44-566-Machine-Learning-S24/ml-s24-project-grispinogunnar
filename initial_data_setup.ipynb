{
 "cells": [
  {
   "cell_type": "markdown",
   "id": "7078dfad-0c62-4729-947c-3e0831800f14",
   "metadata": {},
   "source": [
    "# initial_data_setup\n",
    "Importing, cleaning, and pickling our data for use in other files. Includes a VERY prelimiinary look into our dataset."
   ]
  },
  {
   "cell_type": "code",
   "execution_count": 14,
   "id": "cd9aadc7-4306-4f06-920f-ecbba2894a65",
   "metadata": {},
   "outputs": [
    {
     "name": "stdout",
     "output_type": "stream",
     "text": [
      "Keys:\n",
      "Index(['Country', 'Region', 'Happiness Rank', 'Happiness Score',\n",
      "       'Standard Error', 'Economy (GDP per Capita)', 'Family',\n",
      "       'Health (Life Expectancy)', 'Freedom', 'Trust (Government Corruption)',\n",
      "       'Generosity', 'Dystopia Residual', 'Region Category'],\n",
      "      dtype='object')\n",
      "\n",
      "\n",
      "Head:\n",
      "       Country          Region  Happiness Rank  Happiness Score  \\\n",
      "0  Switzerland  Western Europe               1            7.587   \n",
      "1      Iceland  Western Europe               2            7.561   \n",
      "2      Denmark  Western Europe               3            7.527   \n",
      "3       Norway  Western Europe               4            7.522   \n",
      "4       Canada   North America               5            7.427   \n",
      "\n",
      "   Standard Error  Economy (GDP per Capita)   Family  \\\n",
      "0         0.03411                   1.39651  1.34951   \n",
      "1         0.04884                   1.30232  1.40223   \n",
      "2         0.03328                   1.32548  1.36058   \n",
      "3         0.03880                   1.45900  1.33095   \n",
      "4         0.03553                   1.32629  1.32261   \n",
      "\n",
      "   Health (Life Expectancy)  Freedom  Trust (Government Corruption)  \\\n",
      "0                   0.94143  0.66557                        0.41978   \n",
      "1                   0.94784  0.62877                        0.14145   \n",
      "2                   0.87464  0.64938                        0.48357   \n",
      "3                   0.88521  0.66973                        0.36503   \n",
      "4                   0.90563  0.63297                        0.32957   \n",
      "\n",
      "   Generosity  Dystopia Residual  Region Category  \n",
      "0     0.29678            2.51738                0  \n",
      "1     0.43630            2.70201                0  \n",
      "2     0.34139            2.49204                0  \n",
      "3     0.34699            2.46531                0  \n",
      "4     0.45811            2.45176                1  \n",
      "\n",
      "\n",
      "Tail:\n",
      "     Country                           Region  Happiness Rank  \\\n",
      "153   Rwanda               Sub-Saharan Africa             154   \n",
      "154    Benin               Sub-Saharan Africa             155   \n",
      "155    Syria  Middle East and Northern Africa             156   \n",
      "156  Burundi               Sub-Saharan Africa             157   \n",
      "157     Togo               Sub-Saharan Africa             158   \n",
      "\n",
      "     Happiness Score  Standard Error  Economy (GDP per Capita)   Family  \\\n",
      "153            3.465         0.03464                   0.22208  0.77370   \n",
      "154            3.340         0.03656                   0.28665  0.35386   \n",
      "155            3.006         0.05015                   0.66320  0.47489   \n",
      "156            2.905         0.08658                   0.01530  0.41587   \n",
      "157            2.839         0.06727                   0.20868  0.13995   \n",
      "\n",
      "     Health (Life Expectancy)  Freedom  Trust (Government Corruption)  \\\n",
      "153                   0.42864  0.59201                        0.55191   \n",
      "154                   0.31910  0.48450                        0.08010   \n",
      "155                   0.72193  0.15684                        0.18906   \n",
      "156                   0.22396  0.11850                        0.10062   \n",
      "157                   0.28443  0.36453                        0.10731   \n",
      "\n",
      "     Generosity  Dystopia Residual  Region Category  \n",
      "153     0.22628            0.67042                8  \n",
      "154     0.18260            1.63328                8  \n",
      "155     0.47179            0.32858                3  \n",
      "156     0.19727            1.83302                8  \n",
      "157     0.16681            1.56726                8  \n",
      "\n",
      "\n"
     ]
    }
   ],
   "source": [
    "import pandas as pd\n",
    "import pickle\n",
    "\n",
    "df = pd.read_csv('2015.csv')\n",
    "\n",
    "def map_region(region):\n",
    "    region_map = {'Western Europe':0, 'North America':1, 'Australia and New Zealand':2, 'Middle East and Northern Africa':3, 'Latin America and Caribbean':4, 'Southeastern Asia':5, 'Central and Eastern Europe':6, 'Eastern Asia':7, 'Sub-Saharan Africa':8, 'Southern Asia':9}\n",
    "    return region_map.get(region)\n",
    "df['Region Category'] = df['Region'].apply(map_region) # Adding a Numerical Category for Region\n",
    "\n",
    "df.dropna() # Just in case.\n",
    "\n",
    "with open('df.pkl', 'wb') as f:\n",
    "    pickle.dump(df, f) # So we don't have to repeat this for each notebook.\n",
    "\n",
    "# Glancing over our data. We will do further examination shortly.\n",
    "print(f'Keys:\\n{df.keys()}', end='\\n\\n\\n')\n",
    "print(f'Head:\\n{df.head()}', end='\\n\\n\\n')\n",
    "print(f'Tail:\\n{df.tail()}', end='\\n\\n\\n')"
   ]
  },
  {
   "cell_type": "code",
   "execution_count": null,
   "id": "cc737489-36a4-4b1b-953d-4454e9ad59f5",
   "metadata": {},
   "outputs": [],
   "source": []
  }
 ],
 "metadata": {
  "kernelspec": {
   "display_name": "Python 3 (ipykernel)",
   "language": "python",
   "name": "python3"
  },
  "language_info": {
   "codemirror_mode": {
    "name": "ipython",
    "version": 3
   },
   "file_extension": ".py",
   "mimetype": "text/x-python",
   "name": "python",
   "nbconvert_exporter": "python",
   "pygments_lexer": "ipython3",
   "version": "3.11.5"
  }
 },
 "nbformat": 4,
 "nbformat_minor": 5
}
